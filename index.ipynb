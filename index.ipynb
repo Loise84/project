{
 "cells": [
  {
   "cell_type": "markdown",
   "id": "5ee8e042",
   "metadata": {},
   "source": [
    "# Analysis of Hotel Bookings\n",
    "\n",
    "## Business Understanding\n",
    "***\n",
    "### Introduction\n",
    "Hotels are a major part of the hospitality industry, that are considered to have a large economic impact to our community. Hotels are service providers of accomodation, entertainment and leisure both to local and international tourists. Due to their large target population(local and international), hotel reservation system became a necessary component inorder to expand their customer base. Hotel reservations have become increasingly popular, as hotel providers strategise in marketing / popularising /advertising their services and amenities.\n",
    "\n",
    "Hotel reservations systems are a convenient and easy way for both customers  and staff to access hotel services and information both localy and remote. There are four types of hotel booking systems namels:\n",
    "- **Direct Online**: Direct online booking sources are where customers make reservetions through, the hotel's website, social media platforms and .\n",
    "\n",
    "- **Direct Offline**: This is abooking system where customers make reservations by making direct phone calls and sending emails directly to the hotel.\n",
    "\n",
    "- **Indirect Online**: This are the most popular and diverse booking channels and offer a diverse pool of customers. Some of the channels are: \n",
    "     - Online Travel Agency (OTA) which are online booking platforms where customers can easily compare and review different accomodation options in one place eg Booking.com, Expedia, Airbnb, Agoda, etc\n",
    "     - Travel Agencies (TA) are responsible for organizing tour services to a group of guest / tourist , inclusive of booking rooms for them\n",
    "\n",
    "- **Indirect Offline**: This is where customers ask for hotel recomentations from various sources such as tour guides, event agencies and occationally do hotel \"walk-ins\" to manually make reservations.\n",
    "\n",
    "### Problem Statement\n",
    "The importance of hotel reservation sytsems is not only to reach a large target audience but  most importantly to converts potential customers into actual customers, through reaffirmation of your quality service provision and professionalism inorder to boost their confidence in you. This can be accomplished by reducing churning/ cancelation of hotel reservations made from the different booking sources. \n",
    "Being part of the hotel management, we will be developing strategies that will increase revenue in the hotel and reducing reservation churning by developing a model that can predict hotel churning.\n",
    "\n",
    "### Main Objective\n",
    "This project is aimed at providing appropriate recommendations / strategies that will increasing hotel revenue and to develop a model that can predict hotel churning / cancelation and its major causes and how to mitigate them.\n",
    "\n",
    "### Metrics of Success\n",
    "To provide actionable solution/insights of how to improve hotel revenue and mitigate hotel reservation churning\n",
    "\n",
    "### Specific Objectives\n",
    "- Identify various patterns and trents that can improve revenue collection\n",
    "- To devolope a model that can predict whether a reservation is canceled or not\n",
    "- To identify the major factors / features that are associated with reservation cancelation\n",
    "- To develop strategies to mitigate reservation churning"
   ]
  },
  {
   "cell_type": "markdown",
   "id": "9ca0f646",
   "metadata": {},
   "source": [
    "## Data Understanding\n",
    "***\n",
    "The datset contains information collected from two hotel types; resort and city hotel with a structure of 31 variables and 119,390 observations, with a ratio of 34% to 66% respectively for the two hotels. Each row represents booking done within the period 1st July,2015 and 31st August,2017 and the bookings that were checked-in and the ones canceled."
   ]
  },
  {
   "cell_type": "code",
   "execution_count": 1,
   "id": "78401fb8",
   "metadata": {},
   "outputs": [],
   "source": [
    "# importing necesary packages\n",
    "import pandas as pd\n",
    "import numpy as np\n",
    "\n",
    "#plottings\n",
    "import matplotlib.pyplot as plt\n",
    "import seaborn as sns\n",
    "\n",
    "%matplotlib inline\n",
    "plt.style.use('ggplot')"
   ]
  },
  {
   "cell_type": "code",
   "execution_count": null,
   "id": "ae1591b1",
   "metadata": {},
   "outputs": [],
   "source": [
    "# Reading the `bom.movie_gross` dataset and assigning to variable `movie_gross`\n",
    "\n",
    "hotel=pd.read_csv('data/bom.movie_gross.csv')\n",
    "\n",
    "print(hotel.shape)\n",
    "hotel.head()"
   ]
  },
  {
   "cell_type": "code",
   "execution_count": null,
   "id": "874d6b97",
   "metadata": {},
   "outputs": [],
   "source": []
  },
  {
   "cell_type": "markdown",
   "id": "3623a035",
   "metadata": {},
   "source": [
    "## Data Preparation"
   ]
  },
  {
   "cell_type": "code",
   "execution_count": null,
   "id": "8e286b26",
   "metadata": {},
   "outputs": [],
   "source": []
  },
  {
   "cell_type": "markdown",
   "id": "48ea4542",
   "metadata": {},
   "source": [
    "## Modelling"
   ]
  },
  {
   "cell_type": "code",
   "execution_count": null,
   "id": "81575976",
   "metadata": {},
   "outputs": [],
   "source": []
  }
 ],
 "metadata": {
  "kernelspec": {
   "display_name": "Python 3 (ipykernel)",
   "language": "python",
   "name": "python3"
  },
  "language_info": {
   "codemirror_mode": {
    "name": "ipython",
    "version": 3
   },
   "file_extension": ".py",
   "mimetype": "text/x-python",
   "name": "python",
   "nbconvert_exporter": "python",
   "pygments_lexer": "ipython3",
   "version": "3.10.9"
  }
 },
 "nbformat": 4,
 "nbformat_minor": 5
}
